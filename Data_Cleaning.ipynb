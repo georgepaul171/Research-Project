{
 "cells": [
  {
   "cell_type": "code",
   "execution_count": 1,
   "metadata": {},
   "outputs": [
    {
     "name": "stdout",
     "output_type": "stream",
     "text": [
      "['PUBID', 'REGION', 'CENDIV', 'PBA', 'PUBCLIM', 'SQFT', 'SQFTC', 'WLCNS', 'RFCNS', 'RFCOOL', 'RFTILT', 'BLDSHP', 'GLSSPC', 'NFLOOR', 'BASEMNT', 'FLCEILHT', 'ATTIC', 'ELEVTR', 'NELVTR', 'ESCLTR', 'NESLTR', 'YRCONC', 'RENOV', 'RENCOS', 'RENADD', 'RENRDC', 'RENINT', 'RENRFF', 'RENWIN', 'RENHVC', 'RENLGT', 'RENPLB', 'RENELC', 'RENINS', 'RENSAF', 'RENSTR', 'RENOTH', 'DRYCL', 'VACANT', 'PBAPLUS', 'RWSEAT', 'PBSEAT', 'EDSEAT', 'FDSEAT', 'DRVTHRU', 'HCBED', 'NRSBED', 'LODGRM', 'COURT', 'FACIL', 'FEDFAC', 'FACACT', 'MANIND', 'PLANT', 'FACDST', 'FACDHW', 'FACDCW', 'FACELC', 'BLDPLT', 'GOVOWN', 'GOVTYP', 'OWNTYPE', 'NOCC', 'NOCCAT', 'OWNOCC', 'OWNOPR', 'OWNPPR', 'NWNPPR', 'NWNOPR', 'WHOPPR', 'MONUSE', 'OCCUPYP', 'LODOCCP', 'OPEN24', 'OPNMF', 'OPNWE', 'WKHRS', 'WKHRSC', 'NWKER', 'NWKERC', 'HT1', 'HT2', 'COOL', 'WATR', 'COOK', 'MANU', 'EGYUSED', 'ELUSED', 'NGUSED', 'FKUSED', 'PRUSED', 'STUSED', 'HWUSED', 'CWUSED', 'WOUSED', 'COUSED', 'SOUSED', 'OTUSED', 'FKTYPE', 'SOPANEL', 'SOTHERM', 'HEATP', 'HTLS50', 'ELHT1', 'NGHT1', 'FKHT1', 'PRHT1', 'STHT1', 'HWHT1', 'WOHT1', 'COHT1', 'SOHT1', 'OTHT1', 'ELHT2', 'NGHT2', 'FKHT2', 'PRHT2', 'STHT2', 'HWHT2', 'WOHT2', 'COHT2', 'SOHT2', 'OTHT2', 'PKGHT', 'FURNAC', 'SLFCON', 'BOILER', 'HTPMPH', 'STHW', 'REHEAT', 'FIREPLC', 'OTHTEQ', 'PKGHT_EL', 'BOILER_EL', 'HTPMPH_EL', 'FURNAC_EL', 'SLFCON_EL', 'FIREPLC_EL', 'REHEAT_EL', 'OTHTEQ_EL', 'PKGHT_NG', 'BOILER_NG', 'HTPMPH_NG', 'FURNAC_NG', 'SLFCON_NG', 'FIREPLC_NG', 'OTHTEQ_NG', 'BOILER_FK', 'FURNAC_FK', 'SLFCON_FK', 'OTHTEQ_FK', 'PKGHT_PR', 'BOILER_PR', 'HTPMPH_PR', 'FURNAC_PR', 'SLFCON_PR', 'FIREPLC_PR', 'OTHTEQ_PR', 'DIST_ST', 'AIRHAND_ST', 'FANCOIL_ST', 'REHEAT_ST', 'RADIATR_ST', 'RADFLR_ST', 'WTLOOP_ST', 'OTDIST_ST', 'DIST_HW', 'AIRHAND_HW', 'FANCOIL_HW', 'REHEAT_HW', 'RADIATR_HW', 'RADFLR_HW', 'WTLOOP_HW', 'OTDIST_HW', 'FURNAC_WO', 'SLFCON_WO', 'FIREPLC_WO', 'OTHTEQ_WO', 'BOILER_CO', 'FURNAC_CO', 'OTHTEQ_CO', 'SOTHERM_SO', 'PKGHT_OT', 'BOILER_OT', 'FURNAC_OT', 'SLFCON_OT', 'OTHTEQ_OT', 'BLRAIR_HT1', 'BLRFNCL_HT1', 'BLRDUCT_HT1', 'BLRRAD_HT1', 'BLRRDFL_HT1', 'BLRWTLP_HT1', 'BLROTD_HT1', 'BLRAIR_EL2', 'BLRFNCL_EL2', 'BLRDUCT_EL2', 'BLRRAD_EL2', 'BLRRDFL_EL2', 'BLRWTLP_EL2', 'BLROTD_EL2', 'BLRAIR_NG2', 'BLRFNCL_NG2', 'BLRDUCT_NG2', 'BLRRAD_NG2', 'BLRRDFL_NG2', 'BLRWTLP_NG2', 'BLROTD_NG2', 'BLRAIR_FK2', 'BLRFNCL_FK2', 'BLRDUCT_FK2', 'BLRRAD_FK2', 'BLRRDFL_FK2', 'BLRWTLP_FK2', 'BLROTD_FK2', 'BLRAIR_PR2', 'BLRFNCL_PR2', 'BLRDUCT_PR2', 'BLRRAD_PR2', 'BLRRDFL_PR2', 'BLRWTLP_PR2', 'BLROTD_PR2', 'BLRAIR_CO2', 'BLRFNCL_CO2', 'BLRDUCT_CO2', 'BLRRAD_CO2', 'BLRRDFL_CO2', 'BLRWTLP_CO2', 'BLROTD_CO2', 'BLRAIR_OT2', 'BLRFNCL_OT2', 'BLRDUCT_OT2', 'BLRRAD_OT2', 'BLRRDFL_OT2', 'BLRWTLP_OT2', 'BLROTD_OT2', 'BLRAIR', 'BLRDUCT', 'BLRFNCL', 'BLROTD', 'BLRRAD', 'BLRRDFL', 'BLRWTLP', 'PKGHPH', 'HPHPTHP', 'HPHAIR', 'HPHGRD', 'HPHDUAL', 'HPHWTR', 'HPHVRF', 'SPHTPTHP', 'FURNP_EL', 'PKGHP_EL', 'BOILP_EL', 'HTPHP_EL', 'SLFCNP_EL', 'FIREPLP_EL', 'REHEATP_EL', 'OTHTP_EL', 'FURNP_NG', 'PKGHP_NG', 'BOILP_NG', 'HTPHP_NG', 'SLFCNP_NG', 'FIREPLP_NG', 'OTHTP_NG', 'FURNP_FK', 'BOILP_FK', 'SLFCNP_FK', 'OTHTP_FK', 'FURNP_PR', 'PKGHP_PR', 'BOILP_PR', 'HTPHP_PR', 'SLFCNP_PR', 'FIREPLP_PR', 'OTHTP_PR', 'STHWP_ST', 'STHWP_HW', 'FURNP_WO', 'SLFCNP_WO', 'FIREPLP_WO', 'OTHTP_WO', 'FURNP_CO', 'BOILP_CO', 'OTHTP_CO', 'SOTHERMP_SO', 'FURNP_OT', 'PKGHP_OT', 'BOILP_OT', 'SLFCNP_OT', 'OTHTP_OT', 'MAINHT', 'NWMNHT', 'COOLP', 'ELCOOL', 'NGCOOL', 'FKCOOL', 'PRCOOL', 'STCOOL', 'CWCOOL', 'OTCOOL', 'RCAC', 'PKGCL', 'CHILLR', 'HTPMPC', 'ACWNWL', 'EVAPCL', 'OTCLEQ', 'CHWT', 'RCAC_EL', 'PKGCL_EL', 'CHILLR_EL', 'HTPMPC_EL', 'ACWNWL_EL', 'EVAPCL_EL', 'OTCLEQ_EL', 'HPCPTHP', 'HPCAIR', 'HPCGRD', 'HPCDUAL', 'HPCWTR', 'ACVRF', 'RMACPTHP', 'CHILLR_NG', 'OTCLEQ_NG', 'CHILLR_FK', 'OTCLEQ_FK', 'CHILLR_PR', 'OTCLEQ_PR', 'CHILLR_ST', 'OTCLEQ_ST', 'OTCLEQ_OT', 'DIST_CW', 'CWAIR', 'CWFNCL', 'CWBEAM', 'CWWTLP', 'CWOTD', 'CHLAIR', 'CHLFNCL', 'CHLBEAM', 'CHLWTLP', 'CHLOTD', 'CHLAIRCL', 'CHLWTRCL', 'CHLABSRP', 'RCACP_EL', 'PKGCP_EL', 'CHILP_EL', 'HTPCP_EL', 'ACWNWP_EL', 'EVAPP_EL', 'OTCLP_EL', 'CHILP_NG', 'OTCLP_NG', 'CHILP_FK', 'OTCLP_FK', 'CHILP_PR', 'OTCLP_PR', 'CHILP_ST', 'OTCLP_ST', 'CHWTP_CW', 'OTCLP_OT', 'MAINCL', 'NWMNCL', 'EMCS', 'EMCSHT', 'EMCSCL', 'EMCSLT', 'SMRTTHRM', 'HWRDHT', 'HWRDCL', 'VAV', 'DOAS', 'DCV', 'ECN', 'MAINT', 'ELWATR', 'NGWATR', 'FKWATR', 'PRWATR', 'STWATR', 'HWWATR', 'WOWATR', 'COWATR', 'SOWATR', 'OTWATR', 'WTHTEQ', 'BOOSTWT', 'ELCOOK', 'NGCOOK', 'FKCOOK', 'PRCOOK', 'STCOOK', 'HWCOOK', 'WOCOOK', 'COCOOK', 'OTCOOK', 'ELMANU', 'NGMANU', 'FKMANU', 'PRMANU', 'STMANU', 'HWMANU', 'WOMANU', 'COMANU', 'OTMANU', 'CAPGEN', 'PVC', 'ENGINE', 'FUELCL', 'LRGTRB', 'MCROTB', 'OTGENTECH', 'COGEN', 'NGGENR', 'FKGENR', 'PRGENR', 'WOGENR', 'COGENR', 'SOGENR', 'OTGENR', 'GENUSE', 'GENGT1MW', 'NGOTH', 'FKOTH', 'PROTH', 'STOTH', 'HWOTH', 'CWOTH', 'WOOTH', 'COOTH', 'SOOTH', 'OTOTH', 'PRAMTC', 'PRUNIT', 'WOAMT', 'WOSRC', 'WOEXP', 'WOEXPC', 'ENRGYPLN', 'SNACK', 'FASTFD', 'CAF', 'FDPREP', 'KITCHN', 'BREAKRM', 'OTFDRM', 'SNACKSF', 'FASTFDSF', 'CAFSF', 'FDPREPSF', 'HWTRM', 'LAUNDR', 'CONFSP', 'CONFSPP', 'MEDEQP', 'XRAYN', 'CTSCAN', 'MRI', 'LINACC', 'OUTHOSPPCT', 'OUTSURG', 'LABEQP', 'MCHEQP', 'POOL', 'HTPOOL', 'POOLSRC', 'STRLZR', 'RFGEQP', 'RFGRES', 'RFGCOMP', 'RFGWI', 'RFGOP', 'RFGCL', 'RFGVEN', 'RFGICE', 'RFGSTO', 'RFGRSN', 'RFGCOMPN', 'RFGWIN', 'RFGOPN', 'RFGCLN', 'RFGVNN', 'RFGICN', 'RFGSTP', 'WHRECOV', 'WHHT2', 'WHWT', 'WHOT', 'PCTERM', 'LAPTOP', 'TABLET', 'SERVER', 'PCTERMN', 'PCTRMC', 'LAPTPN', 'LAPTPC', 'MLTMON', 'MLTMNC', 'TABCHRG', 'TABLETN', 'SRVUNIT', 'SERVERN', 'SERVERC', 'SRVRCLST', 'DATACNTR', 'DCNTRSFC', 'TRNGRM', 'STDNRM', 'LGOFFDEV', 'SMOFFDEV', 'WBOARDS', 'TVVIDEO', 'RGSTR', 'LGOFFDEVN', 'SMOFFDEVN', 'WBOARDSN', 'TVVIDEON', 'RGSTRN', 'ATMN', 'LTZHRP', 'LZHRPC', 'LTOHRP', 'LOHRPC', 'LTNR24', 'LTNHRP', 'LNHRPC', 'LIT', 'FLUOR', 'CFLR', 'BULB', 'HALO', 'HID', 'LED', 'OTLT', 'FLUORP', 'CFLRP', 'BULBP', 'HALOP', 'HIDP', 'LEDP', 'OTLTP', 'SCHED', 'OCSN', 'DIM', 'DAYHARV', 'TRIM', 'PLGCTRL', 'DRLGHT', 'LTEXPC', 'PKLT', 'PKLTINOUT', 'PKLTN', 'WINTYP', 'TINT', 'REFL', 'AWN', 'SKYLT', 'DAYLTP', 'HDD65', 'CDD65', 'MFUSED', 'MFBTU', 'MFEXP', 'ELBTU', 'ELCNS', 'ELEXP', 'NGBTU', 'NGCNS', 'NGEXP', 'FKBTU', 'FKCNS', 'FKEXP', 'DHUSED', 'DHHT1', 'DHHT2', 'DHCOOL', 'DHWATR', 'DHCOOK', 'DHMANU', 'DHOTH', 'DHBTU', 'DHEXP', 'MFHTBTU', 'MFCLBTU', 'MFVNBTU', 'MFWTBTU', 'MFLTBTU', 'MFCKBTU', 'MFRFBTU', 'MFOFBTU', 'MFPCBTU', 'MFOTBTU', 'ELHTBTU', 'ELCLBTU', 'ELVNBTU', 'ELWTBTU', 'ELLTBTU', 'ELCKBTU', 'ELRFBTU', 'ELOFBTU', 'ELPCBTU', 'ELOTBTU', 'NGHTBTU', 'NGCLBTU', 'NGWTBTU', 'NGCKBTU', 'NGOTBTU', 'FKHTBTU', 'FKCLBTU', 'FKWTBTU', 'FKCKBTU', 'FKOTBTU', 'DHHTBTU', 'DHCLBTU', 'DHWTBTU', 'DHCKBTU', 'DHOTBTU', 'FINALWT', 'FINALWT1', 'FINALWT2', 'FINALWT3', 'FINALWT4', 'FINALWT5', 'FINALWT6', 'FINALWT7', 'FINALWT8', 'FINALWT9', 'FINALWT10', 'FINALWT11', 'FINALWT12', 'FINALWT13', 'FINALWT14', 'FINALWT15', 'FINALWT16', 'FINALWT17', 'FINALWT18', 'FINALWT19', 'FINALWT20', 'FINALWT21', 'FINALWT22', 'FINALWT23', 'FINALWT24', 'FINALWT25', 'FINALWT26', 'FINALWT27', 'FINALWT28', 'FINALWT29', 'FINALWT30', 'FINALWT31', 'FINALWT32', 'FINALWT33', 'FINALWT34', 'FINALWT35', 'FINALWT36', 'FINALWT37', 'FINALWT38', 'FINALWT39', 'FINALWT40', 'FINALWT41', 'FINALWT42', 'FINALWT43', 'FINALWT44', 'FINALWT45', 'FINALWT46', 'FINALWT47', 'FINALWT48', 'FINALWT49', 'FINALWT50', 'FINALWT51', 'FINALWT52', 'FINALWT53', 'FINALWT54', 'FINALWT55', 'FINALWT56', 'FINALWT57', 'FINALWT58', 'FINALWT59', 'FINALWT60', 'FINALWT61', 'FINALWT62', 'FINALWT63', 'FINALWT64', 'FINALWT65', 'FINALWT66', 'FINALWT67', 'FINALWT68', 'FINALWT69', 'FINALWT70', 'FINALWT71', 'FINALWT72', 'FINALWT73', 'FINALWT74', 'FINALWT75', 'FINALWT76', 'FINALWT77', 'FINALWT78', 'FINALWT79', 'FINALWT80', 'FINALWT81', 'FINALWT82', 'FINALWT83', 'FINALWT84', 'FINALWT85', 'FINALWT86', 'FINALWT87', 'FINALWT88', 'FINALWT89', 'FINALWT90', 'FINALWT91', 'FINALWT92', 'FINALWT93', 'FINALWT94', 'FINALWT95', 'FINALWT96', 'FINALWT97', 'FINALWT98', 'FINALWT99', 'FINALWT100', 'FINALWT101', 'FINALWT102', 'FINALWT103', 'FINALWT104', 'FINALWT105', 'FINALWT106', 'FINALWT107', 'FINALWT108', 'FINALWT109', 'FINALWT110', 'FINALWT111', 'FINALWT112', 'FINALWT113', 'FINALWT114', 'FINALWT115', 'FINALWT116', 'FINALWT117', 'FINALWT118', 'FINALWT119', 'FINALWT120', 'FINALWT121', 'FINALWT122', 'FINALWT123', 'FINALWT124', 'FINALWT125', 'FINALWT126', 'FINALWT127', 'FINALWT128', 'FINALWT129', 'FINALWT130', 'FINALWT131', 'FINALWT132', 'FINALWT133', 'FINALWT134', 'FINALWT135', 'FINALWT136', 'FINALWT137', 'FINALWT138', 'FINALWT139', 'FINALWT140', 'FINALWT141', 'FINALWT142', 'FINALWT143', 'FINALWT144', 'FINALWT145', 'FINALWT146', 'FINALWT147', 'FINALWT148', 'FINALWT149', 'FINALWT150', 'FINALWT151', 'ZSQFT', 'ZSQFTC', 'ZWLCNS', 'ZRFCNS', 'ZRFCOOL', 'ZRFTILT', 'ZBLDSHP', 'ZGLSSPC', 'ZNFLOOR', 'ZBASEMNT', 'ZFLCEILHT', 'ZATTIC', 'ZELEVTR', 'ZNELVTR', 'ZESCLTR', 'ZNESLTR', 'ZYRCONC', 'ZRENOV', 'ZRENCOS', 'ZRENADD', 'ZRENRDC', 'ZRENINT', 'ZRENRFF', 'ZRENWIN', 'ZRENHVC', 'ZRENLGT', 'ZRENPLB', 'ZRENELC', 'ZRENINS', 'ZRENSAF', 'ZRENSTR', 'ZRENOTH', 'ZDRYCL', 'ZRWSEAT', 'ZPBSEAT', 'ZEDSEAT', 'ZFDSEAT', 'ZHCBED', 'ZNRSBED', 'ZLODGRM', 'ZFACIL', 'ZFEDFAC', 'ZFACACT', 'ZPLANT', 'ZFACDST', 'ZFACDHW', 'ZFACDCW', 'ZFACELC', 'ZBLDPLT', 'ZGOVOWN', 'ZGOVTYP', 'ZOWNTYPE', 'ZNOCC', 'ZNOCCAT', 'ZOWNOCC', 'ZOWNOPR', 'ZOWNPPR', 'ZNWNPPR', 'ZNWNOPR', 'ZWHOPPR', 'ZMONUSE', 'ZOCCUPYP', 'ZLODOCCP', 'ZOPEN24', 'ZOPNMF', 'ZOPNWE', 'ZWKHRS', 'ZWKHRSC', 'ZNWKER', 'ZNWKERC', 'ZHT1', 'ZHT2', 'ZCOOL', 'ZWATR', 'ZCOOK', 'ZMANU', 'ZELUSED', 'ZNGUSED', 'ZFKUSED', 'ZPRUSED', 'ZSTUSED', 'ZHWUSED', 'ZCWUSED', 'ZWOUSED', 'ZCOUSED', 'ZSOUSED', 'ZOTUSED', 'ZFKTYPE', 'ZSOPANEL', 'ZHEATP', 'ZHTLS50', 'ZELHT1', 'ZNGHT1', 'ZFKHT1', 'ZPRHT1', 'ZSTHT1', 'ZHWHT1', 'ZWOHT1', 'ZCOHT1', 'ZSOHT1', 'ZOTHT1', 'ZELHT2', 'ZNGHT2', 'ZFKHT2', 'ZPRHT2', 'ZSTHT2', 'ZHWHT2', 'ZWOHT2', 'ZCOHT2', 'ZSOHT2', 'ZOTHT2', 'ZPKGHT_EL', 'ZBOILER_EL', 'ZHTPMPH_EL', 'ZFURNAC_EL', 'ZSLFCON_EL', 'ZFIREPLC_EL', 'ZREHEAT_EL', 'ZOTHTEQ_EL', 'ZPKGHT_NG', 'ZBOILER_NG', 'ZHTPMPH_NG', 'ZFURNAC_NG', 'ZSLFCON_NG', 'ZFIREPLC_NG', 'ZOTHTEQ_NG', 'ZBOILER_FK', 'ZFURNAC_FK', 'ZSLFCON_FK', 'ZOTHTEQ_FK', 'ZPKGHT_PR', 'ZBOILER_PR', 'ZHTPMPH_PR', 'ZFURNAC_PR', 'ZSLFCON_PR', 'ZFIREPLC_PR', 'ZOTHTEQ_PR', 'ZDIST_ST', 'ZAIRHAND_ST', 'ZFANCOIL_ST', 'ZREHEAT_ST', 'ZRADIATR_ST', 'ZRADFLR_ST', 'ZWTLOOP_ST', 'ZOTDIST_ST', 'ZDIST_HW', 'ZAIRHAND_HW', 'ZFANCOIL_HW', 'ZREHEAT_HW', 'ZRADIATR_HW', 'ZRADFLR_HW', 'ZWTLOOP_HW', 'ZOTDIST_HW', 'ZFURNAC_WO', 'ZSLFCON_WO', 'ZFIREPLC_WO', 'ZOTHTEQ_WO', 'ZBOILER_CO', 'ZFURNAC_CO', 'ZOTHTEQ_CO', 'ZSOTHERM_SO', 'ZPKGHT_OT', 'ZBOILER_OT', 'ZFURNAC_OT', 'ZSLFCON_OT', 'ZOTHTEQ_OT', 'ZBLRAIR', 'ZBLRDUCT', 'ZBLRFNCL', 'ZBLROTD', 'ZBLRRAD', 'ZBLRRDFL', 'ZBLRWTLP', 'ZHPHPTHP', 'ZHPHAIR', 'ZHPHGRD', 'ZHPHDUAL', 'ZHPHWTR', 'ZHPHVRF', 'ZFURNP_EL', 'ZPKGHP_EL', 'ZBOILP_EL', 'ZHTPHP_EL', 'ZSLFCNP_EL', 'ZFIREPLP_EL', 'ZREHEATP_EL', 'ZOTHTP_EL', 'ZFURNP_NG', 'ZPKGHP_NG', 'ZBOILP_NG', 'ZHTPHP_NG', 'ZSLFCNP_NG', 'ZFIREPLP_NG', 'ZOTHTP_NG', 'ZFURNP_FK', 'ZBOILP_FK', 'ZSLFCNP_FK', 'ZOTHTP_FK', 'ZFURNP_PR', 'ZPKGHP_PR', 'ZBOILP_PR', 'ZHTPHP_PR', 'ZSLFCNP_PR', 'ZFIREPLP_PR', 'ZOTHTP_PR', 'ZSTHWP_ST', 'ZSTHWP_HW', 'ZFURNP_WO', 'ZSLFCNP_WO', 'ZFIREPLP_WO', 'ZOTHTP_WO', 'ZFURNP_CO', 'ZBOILP_CO', 'ZOTHTP_CO', 'ZSOTHERMP_SO', 'ZFURNP_OT', 'ZPKGHP_OT', 'ZBOILP_OT', 'ZSLFCNP_OT', 'ZOTHTP_OT', 'ZMAINHT', 'ZNWMNHT', 'ZCOOLP', 'ZELCOOL', 'ZNGCOOL', 'ZFKCOOL', 'ZPRCOOL', 'ZSTCOOL']\n"
     ]
    }
   ],
   "source": [
    "import pandas as pd\n",
    "\n",
    "# Load the dataset\n",
    "df = pd.read_csv('/Users/georgepaul/Desktop/Research-Project/Data/dataCBECS.csv')\n",
    "\n",
    "print(df.columns.tolist())"
   ]
  },
  {
   "cell_type": "code",
   "execution_count": 2,
   "metadata": {},
   "outputs": [
    {
     "name": "stdout",
     "output_type": "stream",
     "text": [
      "Dataset shape (rows, columns): (1329, 1005)\n"
     ]
    }
   ],
   "source": [
    "# Filter to only office buildings\n",
    "df = df[df['PBA'] == 2]\n",
    "# Filter to only census division 5 - South Atlantic\n",
    "# df = df[df['CENDIV'] == 5]\n",
    "\n",
    "# Drop rows where all energy consumption fields are missing or 0\n",
    "df = df.dropna(subset=['ELCNS', 'NGCNS', 'FKCNS'], how='all')\n",
    "\n",
    "# Replace missing values with 0 for calculation\n",
    "for col in ['ELCNS', 'NGCNS', 'FKCNS']:\n",
    "    df[col] = df[col].fillna(df[col].mean())\n",
    "# Convert all energy to kWh\n",
    "df['Electricity_kWh'] = df['ELCNS']\n",
    "df['Gas_kWh'] = df['NGCNS'] * 29.3\n",
    "df['FuelOil_kWh'] = df['FKCNS'] * 40.7\n",
    "\n",
    "# Total energy in kWh\n",
    "df['Total_Energy_kWh'] = df['Electricity_kWh'] + df['Gas_kWh'] + df['FuelOil_kWh']\n",
    "\n",
    "# Replace 0 or missing floor area with NaN to avoid divide-by-zero\n",
    "df['SQFT'] = df['SQFT'].replace(0, pd.NA)\n",
    "\n",
    "# Calculate EUI (kWh/ft²/year)\n",
    "df['EUI_kWh_per_sqft'] = df['Total_Energy_kWh'] / df['SQFT']\n",
    "\n",
    "# Save result\n",
    "df.to_csv('/Users/georgepaul/Desktop/Research-Project/Data/data_Offices_Location_Clean.csv', index=False)\n",
    "print(\"Dataset shape (rows, columns):\", df.shape)"
   ]
  },
  {
   "cell_type": "markdown",
   "metadata": {},
   "source": [
    "# Variables of interest\n",
    "\n",
    "Square footage: **SQFT** - What is the gross or total square footage of all the space in this building, both finished and unfinished, including basements, hallways, lobbies, stairways, elevator shafts, and indoor parking levels?\n",
    "\n",
    "Number of floors: **NFLOOR** - How many floors are in the tallest section of the building? Include basements, parking levels, or any other floors below ground level. Exclude attics, half-floors, mezzanines, balconies, and lofts. If you’re not sure, please provide your best estimate.\n",
    "\n",
    "Floor to ceiling height: **FLCEILHT** - What is the typical floor-to-ceiling height in this building, measured in feet?\n",
    "\n",
    "Num\tYear of construction category: **YRCONC** - \"2=Before 1946, 3=1946 to 1959, 4=1960 to 1969, 5=1970 to 1979, 6=1980 to 1989, 7=1990 to 1999, 8=2000 to 2012, 9=2013 to 2018\"\n",
    "\n",
    "Months in use: **MONUSE** - How many months was this building in use during calendar year 2018?\n",
    "\n",
    "Percent occupancy: **OCCUPYP** - In 2018, about what percentage of the total floorspace of this building was occupied? If occupancy varied, please provide the average.\n",
    "\n",
    "Total hours open per week: **WKHRS**\n",
    "\n",
    "Number of employees: **NWKER** - How many employees work in the building during the main shift, that is, when most employees are present? Please note that this is not a total count of workers, but rather a count of workers who are present at the same time. Include any volunteer workers. Do not include employees who always work outside the building, such as drivers with delivery routes.\n",
    "\n",
    "Derived variable, main heating equipment: **MAINHT** (1-40)\n",
    "\n",
    "Percent heated: **HEATP** - What percentage of the square footage in this building was heated to at least 50 degrees Fahrenheit during 2018, including basements and indoor parking levels if they were heated to at least 50 degrees? If you’re not sure, please provide your best estimate.\n",
    "\n",
    "Percent cooled: **COOLP** - What percentage of the square footage in this building was cooled by air conditioning equipment during 2018? If you’re not sure, please provide your best estimate.\n",
    "\n",
    "Derived variable, main airconditioning equipment: **MAINCL** (1-17)\n",
    "\n",
    "Data Center: **DATACNTR** - Which of these types of computer areas are found in this building? Data center?\n",
    "\n",
    "Percent lit no hours: **LTZHRP** - What percentage of the square footage is usually lit?\n",
    "\n",
    "Percent daylight: **DAYLTP** - What percentage of the building receives enough outside light so that the interior lights do not need to be turned on? If you’re not sure, please provide your best estimate.\n",
    "\n",
    "Third-party data, Heating degree days (base 65): **HDD65** \n",
    "\n",
    "Third-party data, Cooling degree days (base 65): **CDD65**\n",
    "\n",
    "Derived variable, Annual major fuels consumption (thous Btu): **MFBTU**"
   ]
  },
  {
   "cell_type": "code",
   "execution_count": null,
   "metadata": {},
   "outputs": [],
   "source": []
  },
  {
   "cell_type": "code",
   "execution_count": null,
   "metadata": {},
   "outputs": [],
   "source": []
  }
 ],
 "metadata": {
  "kernelspec": {
   "display_name": "Applied",
   "language": "python",
   "name": "python3"
  },
  "language_info": {
   "codemirror_mode": {
    "name": "ipython",
    "version": 3
   },
   "file_extension": ".py",
   "mimetype": "text/x-python",
   "name": "python",
   "nbconvert_exporter": "python",
   "pygments_lexer": "ipython3",
   "version": "3.12.8"
  }
 },
 "nbformat": 4,
 "nbformat_minor": 2
}
