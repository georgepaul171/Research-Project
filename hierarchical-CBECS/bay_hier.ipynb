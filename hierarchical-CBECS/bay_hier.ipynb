{
 "cells": [
  {
   "cell_type": "markdown",
   "id": "c64a0287",
   "metadata": {},
   "source": [
    "# Bayesian Hierarchical Models for EUI Prediction\n",
    "This notebook fits three different Bayesian models for Energy Use Intensity (EUI) using hierarchical structures and Student-t likelihoods."
   ]
  },
  {
   "cell_type": "code",
   "execution_count": null,
   "id": "453f58b4",
   "metadata": {},
   "outputs": [],
   "source": [
    "## Import libraries\n",
    "import pandas as pd\n",
    "import bambi as bmb\n",
    "import pymc as pm\n",
    "import arviz as az\n",
    "import matplotlib.pyplot as plt\n",
    "from sklearn.preprocessing import MinMaxScaler"
   ]
  },
  {
   "cell_type": "code",
   "execution_count": null,
   "id": "b933d2bf",
   "metadata": {},
   "outputs": [],
   "source": [
    "## Load and prepare data\n",
    "df = pd.read_csv('/Users/georgepaul/Desktop/Research-Project/Data-CBECS/Data_Ready_to_Model.csv')\n",
    "features = [\n",
    "    'EUI_kWh_per_sqmt', 'SQMT', 'NFLOOR', 'FLCEILHT',\n",
    "    'MONUSE', 'OCCUPYP', 'WKHRS', 'NWKER',\n",
    "    'HEATP', 'COOLP', 'DAYLTP', 'HDD65', 'CDD65',\n",
    "    'YRCONC', 'PUBCLIM'\n",
    "]\n",
    "df_model = df[features].dropna()\n",
    "\n",
    "# Scale numeric features\n",
    "scaler = MinMaxScaler()\n",
    "X_scaled = pd.DataFrame(\n",
    "    scaler.fit_transform(df_model.drop(columns=['EUI_kWh_per_sqmt', 'YRCONC', 'PUBCLIM'])),\n",
    "    columns=[col for col in df_model.columns if col not in ['EUI_kWh_per_sqmt', 'YRCONC', 'PUBCLIM']]\n",
    ")\n",
    "df_ready = pd.concat([X_scaled, df_model[['EUI_kWh_per_sqmt', 'YRCONC', 'PUBCLIM']].reset_index(drop=True)], axis=1)\n",
    "\n",
    "# Make group variables categorical\n",
    "df_ready['YRCONC'] = df_ready['YRCONC'].astype(\"category\")\n",
    "df_ready['PUBCLIM'] = df_ready['PUBCLIM'].astype(\"category\")"
   ]
  },
  {
   "cell_type": "code",
   "execution_count": null,
   "id": "646ebbc1",
   "metadata": {},
   "outputs": [],
   "source": [
    "## Three Models\n",
    "\n",
    "# Model 1: Add random intercepts by YRCONC + PUBCLIM\n",
    "formula1 = 'EUI_kWh_per_sqmt ~ SQMT + NFLOOR + FLCEILHT + MONUSE + OCCUPYP + WKHRS + NWKER + HEATP + COOLP + DAYLTP + HDD65 + CDD65 + (1|YRCONC) + (1|PUBCLIM)'\n",
    "model1 = bmb.Model(formula=formula1, data=df_ready, family='gaussian')\n",
    "idata1 = model1.fit(draws=1000, tune=1000, target_accept=0.95, return_inferencedata=True, idata_kwargs={\"log_likelihood\": True})\n",
    "\n",
    "# Model 2: Add interactions\n",
    "formula2 = 'EUI_kWh_per_sqmt ~ SQMT + HEATP + SQMT:HEATP + NWKER + FLCEILHT + NWKER:FLCEILHT + HDD65 + CDD65 + (1|YRCONC) + (1|PUBCLIM)'\n",
    "model2 = bmb.Model(formula=formula2, data=df_ready, family='gaussian')\n",
    "idata2 = model2.fit(draws=1000, tune=1000, target_accept=0.95, return_inferencedata=True, idata_kwargs={\"log_likelihood\": True})\n",
    "\n",
    "# Model 3: Crossed groups (nested-like)\n",
    "formula3 = 'EUI_kWh_per_sqmt ~ SQMT + FLCEILHT + MONUSE + OCCUPYP + NWKER + HEATP + COOLP + HDD65 + CDD65 + (1|YRCONC:PUBCLIM)'\n",
    "model3 = bmb.Model(formula=formula3, data=df_ready, family='gaussian')\n",
    "idata3 = model3.fit(draws=1000, tune=1000, target_accept=0.95, return_inferencedata=True, idata_kwargs={\"log_likelihood\": True})"
   ]
  },
  {
   "cell_type": "code",
   "execution_count": null,
   "id": "76811907",
   "metadata": {},
   "outputs": [],
   "source": [
    "# Compare using LOO\n",
    "loo_comparison = az.compare(\n",
    "    {\"M1\": idata1, \"M2\": idata2, \"M3\": idata3},\n",
    "    ic=\"loo\",\n",
    "    method=\"stacking\",\n",
    "    scale=\"deviance\"\n",
    ")\n",
    "\n",
    "print(loo_comparison)\n",
    "az.plot_compare(loo_comparison)\n",
    "plt.title(\"Model Comparison via LOO\")\n",
    "plt.show()"
   ]
  },
  {
   "cell_type": "markdown",
   "id": "16d3df10",
   "metadata": {},
   "source": [
    "## Hierarchical Intercepts with Student-t Likelihood"
   ]
  },
  {
   "cell_type": "code",
   "execution_count": null,
   "id": "6fddc6ef",
   "metadata": {},
   "outputs": [],
   "source": [
    "import numpy as np\n",
    "\n",
    "# Encode group variables\n",
    "df_ready['YRCONC_code'] = df_ready['YRCONC'].cat.codes\n",
    "df_ready['PUBCLIM_code'] = df_ready['PUBCLIM'].cat.codes\n",
    "\n",
    "X = df_ready.drop(columns=['EUI_kWh_per_sqmt', 'YRCONC', 'PUBCLIM'])\n",
    "y = df_ready['EUI_kWh_per_sqmt'].values\n",
    "n, p = X.shape"
   ]
  },
  {
   "cell_type": "code",
   "execution_count": null,
   "id": "85462c8f",
   "metadata": {},
   "outputs": [],
   "source": [
    "# PyMC model\n",
    "coords = {\n",
    "    \"obs_id\": np.arange(n),\n",
    "    \"feature\": X.columns.tolist(),\n",
    "    \"YRCONC\": df_ready['YRCONC_code'].unique(),\n",
    "    \"PUBCLIM\": df_ready['PUBCLIM_code'].unique()\n",
    "}\n",
    "\n",
    "with pm.Model(coords=coords) as model:\n",
    "\n",
    "    sigma_yrconc = pm.HalfNormal(\"sigma_yrconc\", 10)\n",
    "    sigma_pubclim = pm.HalfNormal(\"sigma_pubclim\", 10)\n",
    "\n",
    "    a_yrconc = pm.Normal(\"a_yrconc\", mu=0, sigma=sigma_yrconc, dims=\"YRCONC\")\n",
    "    a_pubclim = pm.Normal(\"a_pubclim\", mu=0, sigma=sigma_pubclim, dims=\"PUBCLIM\")\n",
    "\n",
    "    beta = pm.Normal(\"beta\", mu=0, sigma=5, dims=\"feature\")\n",
    "    intercept = pm.Normal(\"intercept\", mu=0, sigma=5)\n",
    "\n",
    "    mu = (\n",
    "        intercept\n",
    "        + pm.math.dot(X.values, beta)\n",
    "        + a_yrconc[df_ready['YRCONC_code'].values]\n",
    "        + a_pubclim[df_ready['PUBCLIM_code'].values]\n",
    "    )\n",
    "\n",
    "    sigma = pm.HalfNormal(\"sigma\", 10)\n",
    "    nu = pm.Exponential(\"nu\", 1 / 30)\n",
    "    y_obs = pm.StudentT(\"y_obs\", nu=nu, mu=mu, sigma=sigma, observed=y, dims=\"obs_id\")\n",
    "\n",
    "    trace = pm.sample(1000, tune=1000, target_accept=0.95, return_inferencedata=True)"
   ]
  },
  {
   "cell_type": "code",
   "execution_count": null,
   "id": "7e0873dd",
   "metadata": {},
   "outputs": [],
   "source": [
    "az.plot_trace(trace, var_names=[\"intercept\", \"sigma\", \"nu\", \"sigma_yrconc\", \"sigma_pubclim\"])\n",
    "plt.show()\n",
    "\n",
    "az.summary(trace, var_names=[\"intercept\", \"sigma\", \"nu\", \"sigma_yrconc\", \"sigma_pubclim\"], round_to=2)"
   ]
  },
  {
   "cell_type": "markdown",
   "id": "09a92482",
   "metadata": {},
   "source": [
    "### Bayesian Robust Hierarchical Model Summary (Student-t)\n",
    "- Student-t handles outliers\n",
    "- `sigma_pubclim` > `sigma_yrconc` — climate zone has more influence\n",
    "- All `r_hat` ≈ 1.0 — convergence is good"
   ]
  },
  {
   "cell_type": "code",
   "execution_count": null,
   "id": "0e820515",
   "metadata": {},
   "outputs": [],
   "source": [
    "# Posterior predictive check\n",
    "ppc = pm.sample_posterior_predictive(trace, model=model)\n",
    "y_pred_samples = ppc[\"y_obs\"]\n",
    "y_pred_mean = y_pred_samples.mean(axis=0)"
   ]
  },
  {
   "cell_type": "code",
   "execution_count": null,
   "id": "36feed2c",
   "metadata": {},
   "outputs": [],
   "source": [
    "# Performance metrics\n",
    "from sklearn.metrics import mean_squared_error, mean_absolute_error, r2_score\n",
    "\n",
    "rmse = np.sqrt(mean_squared_error(y, y_pred_mean))\n",
    "mae = mean_absolute_error(y, y_pred_mean)\n",
    "r2 = r2_score(y, y_pred_mean)\n",
    "\n",
    "print(f\"RMSE: {rmse:.2f} kWh/m²\")\n",
    "print(f\"MAE: {mae:.2f} kWh/m²\")\n",
    "print(f\"R² Score: {r2:.3f}\")"
   ]
  },
  {
   "cell_type": "markdown",
   "id": "3b752b6d",
   "metadata": {},
   "source": [
    "## Model Performance – Robust Hierarchical Student-t\n",
    "| Metric | Value | Interpretation |\n",
    "|--------|-------|----------------|\n",
    "| **RMSE** | ~113.8 kWh/m² | Moderate prediction error |\n",
    "| **MAE** | ~76.9 kWh/m² | Mean absolute error is more robust to outliers |\n",
    "| **R²** | 0.027 | Model explains ~2.7% of variance |\n",
    "\n",
    "### Conclusion\n",
    "- Useful for uncertainty quantification and understanding group effects.\n",
    "- Needs further refinement for improved predictive performance."
   ]
  }
 ],
 "metadata": {
  "jupytext": {
   "notebook_metadata_filter": "jupytext_format_version"
  },
  "kernelspec": {
   "display_name": "Python 3 (ipykernel)",
   "language": "python",
   "name": "python3"
  }
 },
 "nbformat": 4,
 "nbformat_minor": 5
}
