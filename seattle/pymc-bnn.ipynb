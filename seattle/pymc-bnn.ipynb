{
 "cells": [
  {
   "cell_type": "code",
   "execution_count": null,
   "metadata": {},
   "outputs": [
    {
     "name": "stderr",
     "output_type": "stream",
     "text": [
      "Initializing NUTS using jitter+adapt_diag...\n",
      "Sequential sampling (2 chains in 1 job)\n",
      "NUTS: [w1, b1, w2, b2, w_out, b_out, sigma]\n"
     ]
    },
    {
     "data": {
      "application/vnd.jupyter.widget-view+json": {
       "model_id": "9a90ad5e2dcf402783b5467bd410d690",
       "version_major": 2,
       "version_minor": 0
      },
      "text/plain": [
       "Output()"
      ]
     },
     "metadata": {},
     "output_type": "display_data"
    }
   ],
   "source": [
    "import pymc as pm\n",
    "import pytensor.tensor as pt\n",
    "import numpy as np\n",
    "import pandas as pd\n",
    "import matplotlib.pyplot as plt\n",
    "from sklearn.metrics import r2_score, mean_squared_error\n",
    "\n",
    "# Load data\n",
    "X_train = pd.read_csv(\"/Users/georgepaul/Desktop/Research-Project/seattle/X_train.csv\")\n",
    "X_test = pd.read_csv(\"/Users/georgepaul/Desktop/Research-Project/seattle/X_test.csv\")\n",
    "y_train = pd.read_csv(\"/Users/georgepaul/Desktop/Research-Project/seattle/y_train.csv\").squeeze()\n",
    "y_test = pd.read_csv(\"/Users/georgepaul/Desktop/Research-Project/seattle/y_test.csv\").squeeze()\n",
    "\n",
    "# Ensure numeric\n",
    "X_train = X_train.apply(pd.to_numeric, errors=\"coerce\").dropna()\n",
    "X_test = X_test.apply(pd.to_numeric, errors=\"coerce\").dropna()\n",
    "y_train = pd.to_numeric(y_train, errors=\"coerce\")[:len(X_train)]\n",
    "y_test = pd.to_numeric(y_test, errors=\"coerce\")[:len(X_test)]\n",
    "\n",
    "X_train_np = X_train.values.astype(np.float32)\n",
    "X_test_np = X_test.values.astype(np.float32)\n",
    "y_train_np = y_train.values.astype(np.float32)\n",
    "y_test_np = y_test.values.astype(np.float32)\n",
    "\n",
    "n_features = X_train_np.shape[1]\n",
    "\n",
    "# Build and train the BNN\n",
    "with pm.Model() as bnn_model:\n",
    "    X_data = pm.Data(\"X_data\", X_train_np)\n",
    "\n",
    "    w1 = pm.Normal(\"w1\", mu=0, sigma=1, shape=(n_features, 128))\n",
    "    b1 = pm.Normal(\"b1\", mu=0, sigma=1, shape=(128,))\n",
    "    z1 = pt.tanh(pt.dot(X_data, w1) + b1)\n",
    "\n",
    "    w2 = pm.Normal(\"w2\", mu=0, sigma=1, shape=(128, 64))\n",
    "    b2 = pm.Normal(\"b2\", mu=0, sigma=1, shape=(64,))\n",
    "    z2 = pt.tanh(pt.dot(z1, w2) + b2)\n",
    "\n",
    "    w_out = pm.Normal(\"w_out\", mu=0, sigma=1, shape=(64,))\n",
    "    b_out = pm.Normal(\"b_out\", mu=0, sigma=1)\n",
    "    mu = pt.dot(z2, w_out) + b_out\n",
    "\n",
    "    sigma = pm.HalfNormal(\"sigma\", sigma=1)\n",
    "    y_obs = pm.Normal(\"y_obs\", mu=mu, sigma=sigma, observed=y_train_np)\n",
    "\n",
    "    trace = pm.sample(draws=1000, tune=1000, target_accept=0.9, return_inferencedata=True, cores=1, random_seed=42)\n",
    "\n",
    "# Prediction on test data\n",
    "with bnn_model:\n",
    "    pm.set_data({\"X_data\": X_test_np})\n",
    "\n",
    "    # Recompute mu without y_obs — use a new deterministic variable for predictions\n",
    "    z1_test = pt.tanh(pt.dot(X_test_np, trace.posterior[\"w1\"].mean((\"chain\", \"draw\")).values) +\n",
    "                      trace.posterior[\"b1\"].mean((\"chain\", \"draw\")).values)\n",
    "    z2_test = pt.tanh(pt.dot(z1_test, trace.posterior[\"w2\"].mean((\"chain\", \"draw\")).values) +\n",
    "                      trace.posterior[\"b2\"].mean((\"chain\", \"draw\")).values)\n",
    "    mu_pred = pt.dot(z2_test, trace.posterior[\"w_out\"].mean((\"chain\", \"draw\")).values) + \\\n",
    "              trace.posterior[\"b_out\"].mean((\"chain\", \"draw\")).values\n",
    "\n",
    "    # Evaluate manually — mean prediction\n",
    "    mu_pred_eval = pm.draw(mu_pred, draws=1000).eval()\n",
    "\n",
    "# Evaluation\n",
    "pred_mean = mu_pred_eval.mean(axis=0)\n",
    "pred_std = mu_pred_eval.std(axis=0)\n",
    "\n",
    "r2 = r2_score(y_test_np, pred_mean)\n",
    "rmse = mean_squared_error(y_test_np, pred_mean, squared=False)\n",
    "\n",
    "print(f\"R² Score: {r2:.3f}\")\n",
    "print(f\"RMSE: {rmse:.2f}\")\n",
    "\n",
    "# Plot predictions with uncertainty\n",
    "plt.figure(figsize=(10, 5))\n",
    "plt.errorbar(range(len(pred_mean)), pred_mean, yerr=pred_std, fmt='o', alpha=0.5, label=\"Predicted ± std\")\n",
    "plt.plot(range(len(y_test_np)), y_test_np, 'k.', alpha=0.6, label=\"Actual\")\n",
    "plt.xlabel(\"Sample Index\")\n",
    "plt.ylabel(\"Site EUI\")\n",
    "plt.title(\"PyMC BNN: Predicted vs Actual with Uncertainty\")\n",
    "plt.legend()\n",
    "plt.grid(True)\n",
    "plt.show()"
   ]
  },
  {
   "cell_type": "code",
   "execution_count": null,
   "metadata": {},
   "outputs": [],
   "source": []
  }
 ],
 "metadata": {
  "kernelspec": {
   "display_name": "Python 3",
   "language": "python",
   "name": "python3"
  },
  "language_info": {
   "codemirror_mode": {
    "name": "ipython",
    "version": 3
   },
   "file_extension": ".py",
   "mimetype": "text/x-python",
   "name": "python",
   "nbconvert_exporter": "python",
   "pygments_lexer": "ipython3",
   "version": "3.12.8"
  }
 },
 "nbformat": 4,
 "nbformat_minor": 2
}
