{
 "cells": [
  {
   "cell_type": "code",
   "execution_count": null,
   "id": "fecb5150",
   "metadata": {},
   "outputs": [],
   "source": [
    "# # Seattle Building Energy Data: Cleaning and EDA with Plotly\n",
    "\n",
    "# ## Virtual Environment Setup\n",
    "# Run the following in your terminal:\n",
    "# python3 -m venv bpd_env\n",
    "# source bpd_env/bin/activate\n",
    "# pip install pandas plotly scikit-learn matplotlib"
   ]
  },
  {
   "cell_type": "code",
   "execution_count": null,
   "id": "c55b2754",
   "metadata": {
    "lines_to_next_cell": 0
   },
   "outputs": [],
   "source": [
    "# ## 1. Load Libraries and Dataset\n",
    "\n",
    "import pandas as pd\n",
    "import plotly.express as px\n",
    "import plotly.figure_factory as ff\n",
    "import matplotlib.pyplot as plt\n",
    "\n",
    "# Replace with your actual path\n",
    "file_path = \"/Users/georgepaul/Desktop/Research-Project/seattle/seattle-data.csv\"\n",
    "\n",
    "# Load data\n",
    "df = pd.read_csv(file_path)\n",
    "\n",
    "print(\"Initial shape:\", df.shape)\n",
    "df.head()"
   ]
  },
  {
   "cell_type": "code",
   "execution_count": null,
   "id": "b4a4ef71",
   "metadata": {
    "lines_to_next_cell": 0
   },
   "outputs": [],
   "source": [
    "# ## 2. Clean the Dataset\n",
    "\n",
    "drop_cols = [\n",
    "    \"OSEBuildingID\", \"BuildingName\", \"TaxParcelIdentificationNumber\",\n",
    "    \"Address\", \"City\", \"State\", \"ZipCode\", \"Neighborhood\",\n",
    "    \"ComplianceIssue\", \"Demolished\"\n",
    "]\n",
    "df.drop(columns=drop_cols, inplace=True, errors='ignore')\n",
    "\n",
    "numeric_columns = [\n",
    "    \"YearBuilt\", \"NumberofFloors\", \"NumberofBuildings\", \"PropertyGFATotal\",\n",
    "    \"ENERGYSTARScore\", \"Electricity(kWh)\", \"NaturalGas(kBtu)\",\n",
    "    \"SteamUse(kBtu)\", \"GHGEmissionsIntensity\", \"SiteEUI(kBtu/sf)\"\n",
    "]\n",
    "df[numeric_columns] = df[numeric_columns].apply(pd.to_numeric, errors='coerce')\n",
    "df = df[df[\"SiteEUI(kBtu/sf)\"].notna()]\n",
    "# df = df.dropna(subset=numeric_columns)\n",
    "upper_limit = df[\"SiteEUI(kBtu/sf)\"].quantile(0.99)\n",
    "df = df[df[\"SiteEUI(kBtu/sf)\"] <= upper_limit]\n",
    "df = df[(df[\"PropertyGFATotal\"] > 0) & (df[\"SiteEUI(kBtu/sf)\"] > 0)]\n",
    "df.reset_index(drop=True, inplace=True)\n",
    "\n",
    "print(\"Cleaned data shape:\", df.shape)"
   ]
  },
  {
   "cell_type": "code",
   "execution_count": null,
   "id": "26379fc5",
   "metadata": {
    "lines_to_next_cell": 0
   },
   "outputs": [],
   "source": [
    "# ## 3. Interactive EDA with Plotly\n",
    "\n",
    "# Histogram of Site EUI\n",
    "\n",
    "fig_hist = px.histogram(\n",
    "    df,\n",
    "    x=\"SiteEUI(kBtu/sf)\",\n",
    "    nbins=50,\n",
    "    title=\"Distribution of Site EUI (kBtu/sf)\",\n",
    "    labels={\"SiteEUI(kBtu/sf)\": \"Site EUI (kBtu/sf)\"}\n",
    ")\n",
    "fig_hist.update_layout(bargap=0.1)\n",
    "fig_hist.show()"
   ]
  },
  {
   "cell_type": "code",
   "execution_count": null,
   "id": "55f199ba",
   "metadata": {
    "lines_to_next_cell": 0
   },
   "outputs": [],
   "source": [
    "# ## 4. Pairplot (Scatter Matrix) for Selected Features\n",
    "\n",
    "selected_features = [\n",
    "    \"SiteEUI(kBtu/sf)\",\n",
    "    \"YearBuilt\",\n",
    "    \"NumberofFloors\",\n",
    "    \"NumberofBuildings\",\n",
    "    \"PropertyGFATotal\",\n",
    "    \"ENERGYSTARScore\",\n",
    "    \"Electricity(kWh)\",\n",
    "    \"NaturalGas(kBtu)\",\n",
    "    \"SteamUse(kBtu)\",\n",
    "    \"GHGEmissionsIntensity\"\n",
    "]\n",
    "\n",
    "plt.figure(figsize=(12, 10))\n",
    "sns.pairplot(df[selected_features], corner=True)\n",
    "plt.suptitle(\"Pairplot of Key Features\", y=1.02)\n",
    "plt.show()"
   ]
  },
  {
   "cell_type": "code",
   "execution_count": null,
   "id": "70017d70",
   "metadata": {
    "lines_to_next_cell": 0
   },
   "outputs": [],
   "source": [
    "# ## 5. Correlation Heatmap\n",
    "\n",
    "\n",
    "corr_matrix = df[selected_features].corr().round(2)\n",
    "z = corr_matrix.values\n",
    "x = y = corr_matrix.columns.tolist()\n",
    "\n",
    "fig_corr = ff.create_annotated_heatmap(\n",
    "    z=z,\n",
    "    x=x,\n",
    "    y=y,\n",
    "    annotation_text=corr_matrix.values.astype(str),\n",
    "    colorscale=\"Viridis\",\n",
    "    showscale=True\n",
    ")\n",
    "fig_corr.update_layout(title=\"Correlation Matrix\", height=700)\n",
    "fig_corr.show()"
   ]
  },
  {
   "cell_type": "code",
   "execution_count": null,
   "id": "b3e1c296",
   "metadata": {
    "lines_to_next_cell": 0
   },
   "outputs": [],
   "source": [
    "# ## 6. Feature Engineering (for modeling)\n",
    "\n",
    "features = [\n",
    "    \"DataYear\", \"YearBuilt\", \"NumberofFloors\", \"NumberofBuildings\",\n",
    "    \"PropertyGFATotal\", \"ENERGYSTARScore\",\n",
    "    \"Electricity(kWh)\", \"NaturalGas(kBtu)\", \"SteamUse(kBtu)\",\n",
    "    \"GHGEmissionsIntensity\"\n",
    "]\n",
    "categoricals = [\n",
    "    \"EPAPropertyType\", \"LargestPropertyUseType\"\n",
    "]\n",
    "\n",
    "df = pd.get_dummies(df, columns=categoricals, drop_first=True)\n",
    "model_features = features + [col for col in df.columns if col.startswith(\"EPAPropertyType_\") or col.startswith(\"LargestPropertyUseType_\")]\n",
    "\n",
    "X = df[model_features]\n",
    "y = df[\"SiteEUI(kBtu/sf)\"]\n",
    "\n",
    "print(\"Final input shape:\", X.shape)"
   ]
  },
  {
   "cell_type": "code",
   "execution_count": null,
   "id": "7499a633",
   "metadata": {},
   "outputs": [],
   "source": []
  }
 ],
 "metadata": {
  "jupytext": {
   "notebook_metadata_filter": "jupytext_format_version"
  },
  "kernelspec": {
   "display_name": "Python 3",
   "language": "python",
   "name": "python3"
  }
 },
 "nbformat": 4,
 "nbformat_minor": 5
}
