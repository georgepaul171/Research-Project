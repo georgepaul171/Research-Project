{
 "cells": [
  {
   "cell_type": "raw",
   "id": "f42e9f30",
   "metadata": {},
   "source": [
    "---\n",
    "jupytext:\n",
    "  formats: ipynb,py:light\n",
    "  jupytext_format_version: '1.3'\n",
    "  kernelspec:\n",
    "    name: python3\n",
    "    display_name: Python 3 (ipykernel)\n",
    "    language: python\n",
    "---"
   ]
  },
  {
   "cell_type": "markdown",
   "id": "f4d54fae",
   "metadata": {},
   "source": [
    "# Improved Bayesian Sparse Regression with Horseshoe Prior (Non‑Centered)\n",
    "\n",
    "- Predictors standardized to mean 0 and unit variance  \n",
    "- Non‑centered horseshoe prior with lighter-tail normals  \n",
    "- NUTS sampler with higher target acceptance to reduce divergences"
   ]
  },
  {
   "cell_type": "code",
   "execution_count": null,
   "id": "0314282e",
   "metadata": {},
   "outputs": [],
   "source": [
    "import pandas as pd\n",
    "import numpy as np\n",
    "from sklearn.preprocessing import StandardScaler\n",
    "from sklearn.metrics import mean_squared_error, mean_absolute_error, r2_score\n",
    "\n",
    "import jax.numpy as jnp\n",
    "from jax import random\n",
    "\n",
    "import numpyro\n",
    "import numpyro.distributions as dist\n",
    "from numpyro.infer import MCMC, NUTS, Predictive\n",
    "\n",
    "import arviz as az\n",
    "import matplotlib.pyplot as plt"
   ]
  },
  {
   "cell_type": "markdown",
   "id": "d4c5db36",
   "metadata": {},
   "source": [
    "## 1. Load and Preprocess Data"
   ]
  },
  {
   "cell_type": "code",
   "execution_count": null,
   "id": "7930792e",
   "metadata": {
    "lines_to_next_cell": 1
   },
   "outputs": [],
   "source": [
    "df = pd.read_csv('/Users/georgepaul/Desktop/Research-Project/Data-CBECS/Data_Ready_to_Model.csv')\n",
    "\n",
    "def floor_band(n):\n",
    "    if n < 994:\n",
    "        return '1-9'\n",
    "    elif n == 994:\n",
    "        return '10-14'\n",
    "    elif n == 995:\n",
    "        return '15+'\n",
    "    else:\n",
    "        return np.nan\n",
    "\n",
    "df['NFLOOR_CAT'] = df['NFLOOR'].apply(floor_band).astype('category')\n",
    "\n",
    "required = [\n",
    "    'EUI_kWh_per_sqmt', 'SQMT', 'FLCEILHT', 'MONUSE', 'OCCUPYP',\n",
    "    'WKHRS', 'NWKER', 'HEATP', 'COOLP', 'DAYLTP', 'HDD65', 'CDD65', 'NFLOOR_CAT'\n",
    "]\n",
    "df_model = df.dropna(subset=required).copy()\n",
    "\n",
    "dummies = pd.get_dummies(df_model['NFLOOR_CAT'], prefix='NFLOOR_CAT').iloc[:, 1:]\n",
    "df_ohe = pd.concat([df_model.reset_index(drop=True), dummies], axis=1)\n",
    "\n",
    "numeric_cols = [\n",
    "    'SQMT', 'FLCEILHT', 'MONUSE', 'OCCUPYP',\n",
    "    'WKHRS', 'NWKER', 'HEATP', 'COOLP',\n",
    "    'DAYLTP', 'HDD65', 'CDD65'\n",
    "]\n",
    "dummy_cols = [c for c in df_ohe.columns if c.startswith('NFLOOR_CAT_')]\n",
    "\n",
    "X = df_ohe[numeric_cols + dummy_cols].values\n",
    "y = df_ohe['EUI_kWh_per_sqmt'].values\n",
    "\n",
    "scaler = StandardScaler()\n",
    "X_std = scaler.fit_transform(X)\n",
    "\n",
    "X_jax = jnp.array(X_std)\n",
    "y_jax = jnp.array(y)"
   ]
  },
  {
   "cell_type": "markdown",
   "id": "a9d0dfd5",
   "metadata": {},
   "source": [
    "## 2. Define Non‑Centered Horseshoe Model"
   ]
  },
  {
   "cell_type": "code",
   "execution_count": null,
   "id": "f1367c33",
   "metadata": {
    "lines_to_next_cell": 1
   },
   "outputs": [],
   "source": [
    "def model(X, y=None):\n",
    "    n, p = X.shape\n",
    "    tau = numpyro.sample('tau', dist.HalfNormal(1.0))\n",
    "    lam = numpyro.sample('lam', dist.HalfNormal(1.0).expand([p]))\n",
    "    eta = numpyro.sample('eta', dist.Normal(0, 1).expand([p]))\n",
    "    beta = tau * lam * eta\n",
    "    numpyro.deterministic('beta', beta)\n",
    "\n",
    "    b0 = numpyro.sample('b0', dist.Normal(0, 10.0))\n",
    "    sigma = numpyro.sample('sigma', dist.HalfNormal(5.0))\n",
    "\n",
    "    mu = jnp.dot(X, beta) + b0\n",
    "    numpyro.sample('obs', dist.Normal(mu, sigma), obs=y)"
   ]
  },
  {
   "cell_type": "markdown",
   "id": "d1d902ac",
   "metadata": {},
   "source": [
    "## 3. Run MCMC Sampling"
   ]
  },
  {
   "cell_type": "code",
   "execution_count": null,
   "id": "f6225de5",
   "metadata": {},
   "outputs": [],
   "source": [
    "rng_key = random.PRNGKey(0)\n",
    "# Set target_accept_prob in NUTS, not in MCMC\n",
    "kernel = NUTS(model, max_tree_depth=12, target_accept_prob=0.9)\n",
    "mcmc = MCMC(kernel, num_warmup=1500, num_samples=1500, num_chains=2)\n",
    "mcmc.run(rng_key, X=X_jax, y=y_jax)\n",
    "mcmc.print_summary()"
   ]
  },
  {
   "cell_type": "markdown",
   "id": "ae7e1840",
   "metadata": {},
   "source": [
    "## 4. Posterior Analysis"
   ]
  },
  {
   "cell_type": "code",
   "execution_count": null,
   "id": "e3e96e4b",
   "metadata": {},
   "outputs": [],
   "source": [
    "idata = az.from_numpyro(mcmc)\n",
    "az.plot_forest(idata, var_names=['beta'], combined=True)\n",
    "plt.title('Posterior Distributions of Sparse Coefficients')\n",
    "plt.show()"
   ]
  },
  {
   "cell_type": "markdown",
   "id": "fac4fceb",
   "metadata": {},
   "source": [
    "## 5. Posterior Predictive & Model Performance"
   ]
  },
  {
   "cell_type": "code",
   "execution_count": null,
   "id": "6488dae9",
   "metadata": {},
   "outputs": [],
   "source": [
    "predictive = Predictive(model, posterior_samples=mcmc.get_samples())\n",
    "y_rep = predictive(rng_key, X=X_jax)['obs']\n",
    "y_pred = np.mean(np.array(y_rep), axis=0)\n",
    "\n",
    "print(f\"RMSE: {np.sqrt(mean_squared_error(y, y_pred)):.2f}\")\n",
    "print(f\"MAE:  {mean_absolute_error(y, y_pred):.2f}\")\n",
    "print(f\"R²:   {r2_score(y, y_pred):.3f}\")"
   ]
  },
  {
   "cell_type": "markdown",
   "id": "2215b873",
   "metadata": {
    "lines_to_next_cell": 0
   },
   "source": [
    "## Summary of Results and Next Steps\n",
    "\n",
    "**Posterior Distributions of Sparse Coefficients**  \n",
    "- **β[0] (SQMT)**: Strongly negative (95% CI ≈ [–22, –2]), indicating larger buildings have lower EUI per m² (economies of scale).  \n",
    "- **β[4] (OCCUPYP) & β[5] (WKHRS)**: Clear positive effects (~20–30), showing that higher occupancy density and longer operating hours drive up energy use.  \n",
    "- **β[6] (NWKER)**: Moderately positive (~15, CI ≈ [5, 25]), more employees → more energy per m².  \n",
    "- **Many coefficients** (e.g. indices 2, 3, 8, 10–12) have 95% CIs overlapping zero—shrunk toward zero by the horseshoe prior.  \n",
    "- **Floor‑band dummies**: The 15+ floors category hints at a positive effect but with a wider CI that sometimes crosses zero, suggesting more data needed for certainty.\n",
    "\n",
    "**Model Performance**  \n",
    "- **RMSE:** ~107 kWh/m²  \n",
    "- **MAE:** ~ 73.5 kWh/m²  \n",
    "- **R²:** ~ 0.14  \n",
    "\n",
    "Although we’ve identified the strongest predictors and pruned irrelevant ones, the model currently explains only ~14% of EUI variance.  \n",
    "\n",
    "**Next Steps**  \n",
    "1. Incorporate a **hierarchical** structure (e.g., by climate zone or year‐built) to share information across subgroups.  \n",
    "2. Add **interaction terms** (e.g., SQMT × OCCUPYP, HDD65 × COOLP) to capture conditional effects.  \n",
    "3. Bring in **additional covariates** (detailed HVAC controls, retrofit status, IoT/smart‐meter time‐series) to boost predictive power.  \n",
    "4. Tune priors or sampler settings further if any residual divergences reappear."
   ]
  },
  {
   "cell_type": "code",
   "execution_count": null,
   "id": "89a2b5c8",
   "metadata": {},
   "outputs": [],
   "source": []
  }
 ],
 "metadata": {
  "jupytext": {
   "cell_metadata_filter": "-all",
   "main_language": "python",
   "notebook_metadata_filter": "-all"
  },
  "language_info": {
   "name": "python"
  }
 },
 "nbformat": 4,
 "nbformat_minor": 5
}
