{
 "cells": [
  {
   "cell_type": "markdown",
   "id": "7f0d31a9",
   "metadata": {},
   "source": [
    "# Filtered Data Analysis\n",
    "This notebook-style script performs exploratory data analysis and preprocessing for modeling Energy Use Intensity (EUI) using the CBECS dataset."
   ]
  },
  {
   "cell_type": "code",
   "execution_count": null,
   "id": "d6893814",
   "metadata": {},
   "outputs": [],
   "source": [
    "import pandas as pd\n",
    "import matplotlib.pyplot as plt\n",
    "import seaborn as sns"
   ]
  },
  {
   "cell_type": "code",
   "execution_count": null,
   "id": "0f35ada4",
   "metadata": {},
   "outputs": [],
   "source": [
    "# Load the dataset\n",
    "df = pd.read_csv('/Users/georgepaul/Desktop/Research-Project/Data-CBECS/Usable_data_Offices_Clean.csv')\n",
    "print(df.columns.tolist())"
   ]
  },
  {
   "cell_type": "code",
   "execution_count": null,
   "id": "9d8c6f69",
   "metadata": {},
   "outputs": [],
   "source": [
    "# Basic info\n",
    "print(\"Basic Info:\")\n",
    "print(df.info())"
   ]
  },
  {
   "cell_type": "code",
   "execution_count": null,
   "id": "3da93d05",
   "metadata": {},
   "outputs": [],
   "source": [
    "# Summary statistics\n",
    "print(\"\\nSummary Statistics:\")\n",
    "print(df.describe(include='all'))"
   ]
  },
  {
   "cell_type": "code",
   "execution_count": null,
   "id": "4ffbec81",
   "metadata": {},
   "outputs": [],
   "source": [
    "# Missing values\n",
    "print(\"\\nMissing Values:\")\n",
    "print(df.isnull().sum().sort_values(ascending=False).head(20))"
   ]
  },
  {
   "cell_type": "code",
   "execution_count": null,
   "id": "4081cd98",
   "metadata": {},
   "outputs": [],
   "source": [
    "# Correlation with EUI (numerical only)\n",
    "eui_corr = df.corr(numeric_only=True)['EUI_kWh_per_sqmt'].sort_values(ascending=False)\n",
    "print(\"\\nTop correlations with EUI (kWh/m²):\")\n",
    "print(eui_corr.head(10))\n",
    "print(\"\\nBottom correlations with EUI (kWh/m²):\")\n",
    "print(eui_corr.tail(10))"
   ]
  },
  {
   "cell_type": "markdown",
   "id": "5f413e84",
   "metadata": {},
   "source": [
    "## Key Visualizations"
   ]
  },
  {
   "cell_type": "code",
   "execution_count": null,
   "id": "728609b8",
   "metadata": {},
   "outputs": [],
   "source": [
    "# Histogram of EUI\n",
    "plt.figure(figsize=(8, 4))\n",
    "sns.histplot(df['EUI_kWh_per_sqmt'], bins=50, kde=True)\n",
    "plt.title('Distribution of Energy Use Intensity (kWh/m²)')\n",
    "plt.xlabel('EUI (kWh/m²)')\n",
    "plt.ylabel('Frequency')\n",
    "plt.tight_layout()\n",
    "plt.show()"
   ]
  },
  {
   "cell_type": "code",
   "execution_count": null,
   "id": "ef9bd695",
   "metadata": {},
   "outputs": [],
   "source": [
    "# Scatter: EUI vs. SQFT\n",
    "plt.figure(figsize=(6, 4))\n",
    "sns.scatterplot(x='SQFT', y='EUI_kWh_per_sqmt', data=df)\n",
    "plt.title('EUI vs. Gross Floor Area (ft²)')\n",
    "plt.xlabel('Square Footage')\n",
    "plt.ylabel('EUI (kWh/m²)')\n",
    "plt.tight_layout()\n",
    "plt.show()"
   ]
  },
  {
   "cell_type": "code",
   "execution_count": null,
   "id": "05f02151",
   "metadata": {},
   "outputs": [],
   "source": [
    "# Boxplot: EUI by year of construction\n",
    "plt.figure(figsize=(10, 5))\n",
    "sns.boxplot(x='YRCONC', y='EUI_kWh_per_sqmt', data=df)\n",
    "plt.title('EUI by Year of Construction Category')\n",
    "plt.xlabel('Construction Year Category')\n",
    "plt.ylabel('EUI (kWh/m²)')\n",
    "plt.tight_layout()\n",
    "plt.show()"
   ]
  },
  {
   "cell_type": "code",
   "execution_count": null,
   "id": "7a002eaf",
   "metadata": {},
   "outputs": [],
   "source": [
    "# Boxplot: EUI by main heating type\n",
    "plt.figure(figsize=(12, 5))\n",
    "sns.boxplot(x='MAINHT', y='EUI_kWh_per_sqmt', data=df)\n",
    "plt.title('EUI by Main Heating Type')\n",
    "plt.xlabel('Main Heating Type')\n",
    "plt.ylabel('EUI (kWh/m²)')\n",
    "plt.tight_layout()\n",
    "plt.show()"
   ]
  },
  {
   "cell_type": "code",
   "execution_count": null,
   "id": "64c01b87",
   "metadata": {},
   "outputs": [],
   "source": [
    "# Pairplot of key continuous variables\n",
    "key_vars = ['EUI_kWh_per_sqmt', 'SQMT', 'NFLOOR', 'FLCEILHT', 'WKHRS', 'NWKER', 'HDD65', 'CDD65']\n",
    "sns.pairplot(df[key_vars].dropna())\n",
    "plt.suptitle(\"Pairwise Relationships (Numerical Variables)\", y=1.02)\n",
    "plt.show()"
   ]
  },
  {
   "cell_type": "markdown",
   "id": "fbc88ef2",
   "metadata": {},
   "source": [
    "## Data Cleaning and Feature Selection"
   ]
  },
  {
   "cell_type": "code",
   "execution_count": null,
   "id": "57b8ebb9",
   "metadata": {},
   "outputs": [],
   "source": [
    "# Step 1: Drop columns that are entirely missing\n",
    "df_cleaned = df.dropna(axis=1, how='all')"
   ]
  },
  {
   "cell_type": "code",
   "execution_count": null,
   "id": "50d81bfd",
   "metadata": {},
   "outputs": [],
   "source": [
    "# Step 2: Select relevant features\n",
    "selected_columns = [\n",
    "    'EUI_kWh_per_sqmt',     # Target variable\n",
    "    'SQMT',                 # Gross floor area (m²)\n",
    "    'NFLOOR',               # Number of floors\n",
    "    'FLCEILHT',             # Floor to ceiling height\n",
    "    'YRCONC',               # Year of construction category (categorical)\n",
    "    'MONUSE',               # Months in use\n",
    "    'OCCUPYP',              # Percent occupancy\n",
    "    'WKHRS',                # Hours open per week\n",
    "    'NWKER',                # Number of employees\n",
    "    'HEATP',                # Percent heated\n",
    "    'COOLP',                # Percent cooled\n",
    "    'DAYLTP',               # Percent daylight\n",
    "    'HDD65',                # Heating degree days\n",
    "    'CDD65',                # Cooling degree days\n",
    "    'PUBCLIM'               # Public climate zone (categorical)\n",
    "]"
   ]
  },
  {
   "cell_type": "code",
   "execution_count": null,
   "id": "3a29861c",
   "metadata": {},
   "outputs": [],
   "source": [
    "# Step 3: Keep only selected columns\n",
    "df_model = df_cleaned[selected_columns].copy()"
   ]
  },
  {
   "cell_type": "code",
   "execution_count": null,
   "id": "0541e0f7",
   "metadata": {},
   "outputs": [],
   "source": [
    "# Step 4: Check and report missing values\n",
    "missing_summary = df_model.isnull().sum()\n",
    "print(\"Missing values per column:\\n\", missing_summary)"
   ]
  },
  {
   "cell_type": "code",
   "execution_count": null,
   "id": "eb15d03b",
   "metadata": {},
   "outputs": [],
   "source": [
    "# Step 5: Drop rows with missing target or any missing features\n",
    "df_model = df_model.dropna()"
   ]
  },
  {
   "cell_type": "code",
   "execution_count": null,
   "id": "b0f4513c",
   "metadata": {},
   "outputs": [],
   "source": [
    "# Step 6: Confirm shape and preview cleaned data\n",
    "print(\"\\nCleaned dataset shape:\", df_model.shape)\n",
    "print(df_model.head())"
   ]
  },
  {
   "cell_type": "markdown",
   "id": "73cc1f8f",
   "metadata": {},
   "source": [
    "## Final Export\n",
    "We now export the final cleaned and filtered dataset to a CSV file: Data_Ready_to_Model.csv"
   ]
  },
  {
   "cell_type": "code",
   "execution_count": null,
   "id": "4063d7d5",
   "metadata": {
    "lines_to_next_cell": 0
   },
   "outputs": [],
   "source": [
    "# Export filtered dataset\n",
    "df_model.to_csv('/Users/georgepaul/Desktop/Research-Project/Data-CBECS/Data_Ready_to_Model.csv', index=False)"
   ]
  },
  {
   "cell_type": "code",
   "execution_count": null,
   "id": "0a7fcb7a",
   "metadata": {
    "lines_to_next_cell": 0
   },
   "outputs": [],
   "source": [
    "corr = df[key_vars].corr(numeric_only=True)\n",
    "plt.figure(figsize=(10, 8))\n",
    "sns.heatmap(corr, annot=True, cmap='coolwarm', vmin=-1, vmax=1)\n",
    "plt.title('Correlation Heatmap of Key Variables')\n",
    "plt.tight_layout()\n",
    "plt.show()"
   ]
  },
  {
   "cell_type": "code",
   "execution_count": null,
   "id": "ceaa4f26",
   "metadata": {},
   "outputs": [],
   "source": []
  }
 ],
 "metadata": {
  "jupytext": {
   "notebook_metadata_filter": "jupytext_format_version"
  },
  "kernelspec": {
   "display_name": "Python 3 (ipykernel)",
   "language": "python",
   "name": "python3"
  }
 },
 "nbformat": 4,
 "nbformat_minor": 5
}
