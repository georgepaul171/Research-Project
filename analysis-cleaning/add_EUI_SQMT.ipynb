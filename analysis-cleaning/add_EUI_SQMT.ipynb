{
 "cells": [
  {
   "cell_type": "markdown",
   "id": "9b809c6b",
   "metadata": {},
   "source": [
    "# CBECS Office Buildings Energy Use Cleaning\n",
    "This script loads, filters, cleans, and calculates EUI values for office buildings in the CBECS dataset."
   ]
  },
  {
   "cell_type": "markdown",
   "id": "df50cb9d",
   "metadata": {},
   "source": [
    "## Step 1: Load Data"
   ]
  },
  {
   "cell_type": "code",
   "execution_count": null,
   "id": "62519642",
   "metadata": {},
   "outputs": [],
   "source": [
    "import pandas as pd"
   ]
  },
  {
   "cell_type": "code",
   "execution_count": null,
   "id": "2013d9d1",
   "metadata": {},
   "outputs": [],
   "source": [
    "# Load the original dataset\n",
    "df = pd.read_csv('/Users/georgepaul/Desktop/Research-Project/Data/dataCBECS.csv')"
   ]
  },
  {
   "cell_type": "code",
   "execution_count": null,
   "id": "4f558fa1",
   "metadata": {},
   "outputs": [],
   "source": [
    "# Show all column names\n",
    "print(df.columns.tolist())"
   ]
  },
  {
   "cell_type": "markdown",
   "id": "536a2ecd",
   "metadata": {},
   "source": [
    "## Step 2: Filter Office Buildings"
   ]
  },
  {
   "cell_type": "code",
   "execution_count": null,
   "id": "8721afe1",
   "metadata": {},
   "outputs": [],
   "source": [
    "# Filter to only office buildings (PBA code 2)\n",
    "df = df[df['PBA'] == 2]"
   ]
  },
  {
   "cell_type": "markdown",
   "id": "ef9f8857",
   "metadata": {},
   "source": [
    "## Step 3: Handle Energy Fields"
   ]
  },
  {
   "cell_type": "code",
   "execution_count": null,
   "id": "2198d135",
   "metadata": {},
   "outputs": [],
   "source": [
    "# Drop rows where all three consumption fields are missing\n",
    "df = df.dropna(subset=['ELCNS', 'NGCNS', 'FKCNS'], how='all')"
   ]
  },
  {
   "cell_type": "code",
   "execution_count": null,
   "id": "f8e1654e",
   "metadata": {},
   "outputs": [],
   "source": [
    "# Fill NaN with 0 for calculation\n",
    "df[['ELCNS', 'NGCNS', 'FKCNS']] = df[['ELCNS', 'NGCNS', 'FKCNS']].fillna(0)"
   ]
  },
  {
   "cell_type": "markdown",
   "id": "4f96381a",
   "metadata": {},
   "source": [
    "## Step 4: Convert Energy to kWh"
   ]
  },
  {
   "cell_type": "code",
   "execution_count": null,
   "id": "49458e89",
   "metadata": {},
   "outputs": [],
   "source": [
    "df['Electricity_kWh'] = df['ELCNS']\n",
    "df['Gas_kWh'] = df['NGCNS'] * 29.3\n",
    "df['FuelOil_kWh'] = df['FKCNS'] * 40.7"
   ]
  },
  {
   "cell_type": "code",
   "execution_count": null,
   "id": "e0e16861",
   "metadata": {},
   "outputs": [],
   "source": [
    "# Total energy consumption\n",
    "df['Total_Energy_kWh'] = df['Electricity_kWh'] + df['Gas_kWh'] + df['FuelOil_kWh']"
   ]
  },
  {
   "cell_type": "markdown",
   "id": "f3100fe2",
   "metadata": {},
   "source": [
    "## Step 5: Area Cleaning and EUI Calculation (Version 1)"
   ]
  },
  {
   "cell_type": "code",
   "execution_count": null,
   "id": "152d63a0",
   "metadata": {},
   "outputs": [],
   "source": [
    "# Replace zero SQFT with NA to avoid divide-by-zero\n",
    "df['SQFT'] = df['SQFT'].replace(0, pd.NA)"
   ]
  },
  {
   "cell_type": "code",
   "execution_count": null,
   "id": "34c94022",
   "metadata": {},
   "outputs": [],
   "source": [
    "# Add SQMT column\n",
    "df['SQMT'] = df['SQFT'] * 0.092903"
   ]
  },
  {
   "cell_type": "code",
   "execution_count": null,
   "id": "f0b94342",
   "metadata": {},
   "outputs": [],
   "source": [
    "# EUI calculations\n",
    "df['EUI_kWh_per_sqft'] = df['Total_Energy_kWh'] / df['SQFT']\n",
    "df['EUI_kWh_per_sqmt'] = df['Total_Energy_kWh'] / df['SQMT']"
   ]
  },
  {
   "cell_type": "code",
   "execution_count": null,
   "id": "b47cf34a",
   "metadata": {},
   "outputs": [],
   "source": [
    "# Save version 1\n",
    "df.to_csv('/Users/georgepaul/Desktop/Research-Project/Data/data_Offices_Clean_V1.csv', index=False)"
   ]
  },
  {
   "cell_type": "code",
   "execution_count": null,
   "id": "7e32f5b9",
   "metadata": {},
   "outputs": [],
   "source": [
    "# Output shape\n",
    "print(\"V1 Dataset shape (rows, columns):\", df.shape)"
   ]
  },
  {
   "cell_type": "markdown",
   "id": "f0cfceb0",
   "metadata": {},
   "source": [
    "## Step 6: Alternative Calculation Using MFBTU (Version 2)"
   ]
  },
  {
   "cell_type": "code",
   "execution_count": null,
   "id": "a916c30d",
   "metadata": {},
   "outputs": [],
   "source": [
    "df = pd.read_csv('/Users/georgepaul/Desktop/Research-Project/Data/dataCBECS.csv')"
   ]
  },
  {
   "cell_type": "code",
   "execution_count": null,
   "id": "95e5db09",
   "metadata": {},
   "outputs": [],
   "source": [
    "# Filter to only office buildings\n",
    "df = df[df['PBA'] == 2]"
   ]
  },
  {
   "cell_type": "code",
   "execution_count": null,
   "id": "325041d9",
   "metadata": {},
   "outputs": [],
   "source": [
    "# Drop if MFBTU is missing or zero\n",
    "df = df[df['MFBTU'].notna() & (df['MFBTU'] > 0)]"
   ]
  },
  {
   "cell_type": "code",
   "execution_count": null,
   "id": "e4e95384",
   "metadata": {},
   "outputs": [],
   "source": [
    "# Clean floor area\n",
    "df['SQFT'] = df['SQFT'].replace(0, pd.NA)\n",
    "df['SQMT'] = df['SQFT'] * 0.092903"
   ]
  },
  {
   "cell_type": "code",
   "execution_count": null,
   "id": "e7c4052f",
   "metadata": {},
   "outputs": [],
   "source": [
    "# Convert MFBTU to kWh (1 kBtu = 0.293071 kWh)\n",
    "df['Total_Energy_kWh'] = df['MFBTU'] * 0.293071"
   ]
  },
  {
   "cell_type": "code",
   "execution_count": null,
   "id": "5d1a5807",
   "metadata": {},
   "outputs": [],
   "source": [
    "# EUI calculations\n",
    "df['EUI_kWh_per_sqft'] = df['Total_Energy_kWh'] / df['SQFT']\n",
    "df['EUI_kWh_per_sqmt'] = df['Total_Energy_kWh'] / df['SQMT']"
   ]
  },
  {
   "cell_type": "code",
   "execution_count": null,
   "id": "79c96d5c",
   "metadata": {},
   "outputs": [],
   "source": [
    "# Save version 2\n",
    "df.to_csv('/Users/georgepaul/Desktop/Research-Project/Data/Usable_data_Offices_Clean.csv', index=False)"
   ]
  },
  {
   "cell_type": "code",
   "execution_count": null,
   "id": "591d37b5",
   "metadata": {},
   "outputs": [],
   "source": [
    "# Output shape\n",
    "print(\"V2 Dataset shape (rows, columns):\", df.shape)"
   ]
  }
 ],
 "metadata": {
  "jupytext": {
   "notebook_metadata_filter": "jupytext_format_version"
  },
  "kernelspec": {
   "display_name": "Python 3",
   "language": "python",
   "name": "python3"
  }
 },
 "nbformat": 4,
 "nbformat_minor": 5
}
